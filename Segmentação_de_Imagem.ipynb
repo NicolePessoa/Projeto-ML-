{
  "nbformat": 4,
  "nbformat_minor": 0,
  "metadata": {
    "colab": {
      "provenance": [],
      "gpuType": "T4",
      "authorship_tag": "ABX9TyPPhnfIhVWd9dp8GLmk/UYR",
      "include_colab_link": true
    },
    "kernelspec": {
      "name": "python3",
      "display_name": "Python 3"
    },
    "language_info": {
      "name": "python"
    },
    "accelerator": "GPU"
  },
  "cells": [
    {
      "cell_type": "markdown",
      "metadata": {
        "id": "view-in-github",
        "colab_type": "text"
      },
      "source": [
        "<a href=\"https://colab.research.google.com/github/NicolePessoa/Projeto-ML-/blob/main/Segmenta%C3%A7%C3%A3o_de_Imagem.ipynb\" target=\"_parent\"><img src=\"https://colab.research.google.com/assets/colab-badge.svg\" alt=\"Open In Colab\"/></a>"
      ]
    },
    {
      "cell_type": "markdown",
      "source": [
        "\n",
        "\n",
        "# Segmentação de Imagem\n",
        "\n"
      ],
      "metadata": {
        "id": "TULxDnNqY-5l"
      }
    },
    {
      "cell_type": "markdown",
      "source": [
        "#**Baixando imagem**"
      ],
      "metadata": {
        "id": "jM21etJu1sy4"
      }
    },
    {
      "cell_type": "code",
      "source": [
        "!wget https://i.pinimg.com/736x/d0/3a/73/d03a73ca41cc8047916e89b5d01e5eea.jpg"
      ],
      "metadata": {
        "colab": {
          "base_uri": "https://localhost:8080/"
        },
        "id": "DX1G1n4STVEL",
        "outputId": "166ad825-b6f6-4d5c-e3bb-23c81fc34e3c"
      },
      "execution_count": 19,
      "outputs": [
        {
          "output_type": "stream",
          "name": "stdout",
          "text": [
            "--2024-01-22 18:23:40--  https://i.pinimg.com/736x/d0/3a/73/d03a73ca41cc8047916e89b5d01e5eea.jpg\n",
            "Resolving i.pinimg.com (i.pinimg.com)... 151.101.20.84, 2a04:4e42:5::84\n",
            "Connecting to i.pinimg.com (i.pinimg.com)|151.101.20.84|:443... connected.\n",
            "HTTP request sent, awaiting response... 200 OK\n",
            "Length: 89112 (87K) [image/jpeg]\n",
            "Saving to: ‘d03a73ca41cc8047916e89b5d01e5eea.jpg’\n",
            "\n",
            "\r          d03a73ca4   0%[                    ]       0  --.-KB/s               \rd03a73ca41cc8047916 100%[===================>]  87.02K  --.-KB/s    in 0.007s  \n",
            "\n",
            "2024-01-22 18:23:40 (12.1 MB/s) - ‘d03a73ca41cc8047916e89b5d01e5eea.jpg’ saved [89112/89112]\n",
            "\n"
          ]
        }
      ]
    },
    {
      "cell_type": "markdown",
      "source": [
        "#**Aplicação**"
      ],
      "metadata": {
        "id": "QpOujGu211WF"
      }
    },
    {
      "cell_type": "code",
      "source": [
        "from transformers import pipeline\n",
        "from PIL import Image\n",
        "\n",
        "pipe = pipeline(\"image-segmentation\", model=\"facebook/maskformer-swin-large-ade\", device=0)\n"
      ],
      "metadata": {
        "colab": {
          "base_uri": "https://localhost:8080/"
        },
        "id": "piYUn0tNThpU",
        "outputId": "f4199090-9b3a-4899-e8d1-cdf392050390"
      },
      "execution_count": 46,
      "outputs": [
        {
          "output_type": "stream",
          "name": "stderr",
          "text": [
            "Could not find image processor class in the image processor config or the model config. Loading based on pattern matching with the model's feature extractor configuration.\n",
            "/usr/local/lib/python3.10/dist-packages/transformers/models/maskformer/image_processing_maskformer.py:410: FutureWarning: The `size_divisibility` argument is deprecated and will be removed in v4.27. Please use `size_divisor` instead.\n",
            "  warnings.warn(\n",
            "/usr/local/lib/python3.10/dist-packages/transformers/models/maskformer/image_processing_maskformer.py:417: FutureWarning: The `max_size` argument is deprecated and will be removed in v4.27. Please use size['longest_edge'] instead.\n",
            "  warnings.warn(\n"
          ]
        }
      ]
    },
    {
      "cell_type": "code",
      "source": [
        "imagem = Image.open(\"d03a73ca41cc8047916e89b5d01e5eea.jpg\")\n",
        "res =pipe(imagem)\n",
        "\n",
        "res"
      ],
      "metadata": {
        "colab": {
          "base_uri": "https://localhost:8080/"
        },
        "id": "nRIYAyuVV1C7",
        "outputId": "7898f055-04b4-479a-d17a-8570513b333b"
      },
      "execution_count": 20,
      "outputs": [
        {
          "output_type": "stream",
          "name": "stderr",
          "text": [
            "`label_ids_to_fuse` unset. No instance will be fused.\n"
          ]
        },
        {
          "output_type": "execute_result",
          "data": {
            "text/plain": [
              "[{'score': 0.93214,\n",
              "  'label': 'water',\n",
              "  'mask': <PIL.Image.Image image mode=L size=736x981>},\n",
              " {'score': 0.986957,\n",
              "  'label': 'building',\n",
              "  'mask': <PIL.Image.Image image mode=L size=736x981>},\n",
              " {'score': 0.999874,\n",
              "  'label': 'sand',\n",
              "  'mask': <PIL.Image.Image image mode=L size=736x981>},\n",
              " {'score': 0.999909,\n",
              "  'label': 'person',\n",
              "  'mask': <PIL.Image.Image image mode=L size=736x981>},\n",
              " {'score': 0.999756,\n",
              "  'label': 'tree',\n",
              "  'mask': <PIL.Image.Image image mode=L size=736x981>},\n",
              " {'score': 0.999961,\n",
              "  'label': 'sky',\n",
              "  'mask': <PIL.Image.Image image mode=L size=736x981>}]"
            ]
          },
          "metadata": {},
          "execution_count": 20
        }
      ]
    },
    {
      "cell_type": "code",
      "source": [
        "res[3]['mask']"
      ],
      "metadata": {
        "colab": {
          "base_uri": "https://localhost:8080/",
          "height": 855
        },
        "id": "pZTaGsrHZWO_",
        "outputId": "9f8ca583-0939-4373-b7bf-ece39e5ae885"
      },
      "execution_count": 29,
      "outputs": [
        {
          "output_type": "execute_result",
          "data": {
            "text/plain": [
              "<PIL.Image.Image image mode=L size=736x981>"
            ],
            "image/png": "[encoded data removed]"
          },
          "metadata": {},
          "execution_count": 29
        }
      ]
    }
  ]
}